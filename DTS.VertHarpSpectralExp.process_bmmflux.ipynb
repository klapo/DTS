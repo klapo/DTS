{
 "cells": [
  {
   "cell_type": "markdown",
   "metadata": {},
   "source": [
    "# Read and process bmmflux output\n",
    "\n",
    "Bsared on a test script for quick-looking bmmflux output based on W. Babel's R scripts. The original version is included in this repo as the notebook `UBT_SummerSchool.read_bmmflux_output`"
   ]
  },
  {
   "cell_type": "code",
   "execution_count": 1,
   "metadata": {
    "collapsed": true
   },
   "outputs": [],
   "source": [
    "# netcdf/numpy/xray/stats\n",
    "import numpy as np\n",
    "from datetime import datetime, timedelta\n",
    "import pandas as pd\n",
    "import xarray as xr\n",
    "from scipy.stats.stats import pearsonr\n",
    "\n",
    "# OS interaction\n",
    "import sys\n",
    "import pickle\n",
    "import os\n",
    "\n",
    "# import plotting\n",
    "import seaborn as sns\n",
    "import matplotlib.pyplot as plt\n",
    "from matplotlib import cm\n",
    "from mpl_toolkits.basemap import Basemap\n",
    "import kgraph\n",
    "\n",
    "# Customize\n",
    "sns.set_style(\"whitegrid\")\n",
    "sns.set_context('paper')\n",
    "%matplotlib inline"
   ]
  },
  {
   "cell_type": "code",
   "execution_count": 2,
   "metadata": {
    "collapsed": true
   },
   "outputs": [],
   "source": [
    "# ------------------------------------------------------------------------------------------\n",
    "# Directory Lists\n",
    "\n",
    "# Find host name\n",
    "import socket\n",
    "if socket.gethostname().find('.')>=0:\n",
    "    name=socket.gethostname()\n",
    "else:\n",
    "    name=socket.gethostbyaddr(socket.gethostname())[0]\n",
    "\n",
    "# Determine which machine the script is running on; set up directory names\n",
    "if 'btgmm8' in name:\n",
    "    dirPre = '/Users/karllapo/Desktop/proj/VertHarpExp2017Kloendeel/'\n",
    "elif 'klapos' in name:\n",
    "    dirPre = '/Users/karllapo/gdrive/DarkMix/proj/VertHarpExp2017Kloendeel/'\n",
    "\n",
    "dirData = dirPre + 'data/land_station_eddycovar_2m/results/VHSRE/'\n",
    "dirPrint = dirPre + 'graphics'\n",
    "dirProcessed = dirPre + 'data/land_station_eddycovar_2m_processed/'"
   ]
  },
  {
   "cell_type": "code",
   "execution_count": 3,
   "metadata": {
    "collapsed": true
   },
   "outputs": [],
   "source": [
    "# In order to keep bmmflux from crashing I had to break the analyis up into\n",
    "# chunks. Each chunk is labeled according to the time period (DOY) that it covers.\n",
    "filenameSuffix = ['247', '247_5', '248', '248_5']\n",
    "os.chdir(dirData)\n"
   ]
  },
  {
   "cell_type": "code",
   "execution_count": 4,
   "metadata": {
    "collapsed": true
   },
   "outputs": [],
   "source": [
    "# Convert MATLAB datenum to numpy datetime 64\n",
    "def matlabdn2datetime(matlabDatenum):\n",
    "    npDatetime = [np.datetime64(datetime.fromordinal(int(dt))\\\n",
    "                                + timedelta(days=float(np.remainder(dt,1)))\\\n",
    "                                - timedelta(days = 366))\\\n",
    "                    for dt in matlabDatenum]        \n",
    "    return(npDatetime)"
   ]
  },
  {
   "cell_type": "markdown",
   "metadata": {},
   "source": [
    "## Formatting the conditional surface fluxes\n",
    "- I must have done something in the parameter files to have this turned off. My guess this occured when I disabled the covariance spectrum between w' and the gas analysis."
   ]
  },
  {
   "cell_type": "markdown",
   "metadata": {},
   "source": [
    "## Formatting the filestatistics"
   ]
  },
  {
   "cell_type": "code",
   "execution_count": 5,
   "metadata": {
    "collapsed": true
   },
   "outputs": [],
   "source": [
    "allFileStats = ['VHSRE_filestatistics_1s_3Drot_frc_DOY' + str(DOY) + '.csv'\n",
    "                for DOY in filenameSuffix]\n",
    "fStats = pd.DataFrame()\n",
    "fStats_list = []\n",
    "for files in allFileStats:\n",
    "    df = pd.read_csv(files, header=[0, 1], delimiter=',',\n",
    "                                    index_col=1, parse_dates=[1])\n",
    "    # Drop datetime_end column\n",
    "    df.drop(df.columns.values[1], axis=1, inplace=True)\n",
    "    fStats_list.append(df)\n",
    "fStats = pd.concat(fStats_list)\n",
    "\n",
    "# All columns are unitless, drop units row. I'm using a super hacky approach,\n",
    "# it would be good to clean this up later.\n",
    "fStats.rename(index=str, columns={fStats.columns[0]: 'Filename'}, inplace=True)\n",
    "fStats.columns = [fS[0] for fS in fStats.columns]\n",
    "fStats.rename(index=str, columns={fStats.columns[0]: 'Filename'}, inplace=True)"
   ]
  },
  {
   "cell_type": "markdown",
   "metadata": {},
   "source": [
    "## Formatting QA/QC"
   ]
  },
  {
   "cell_type": "code",
   "execution_count": 6,
   "metadata": {},
   "outputs": [
    {
     "name": "stdout",
     "output_type": "stream",
     "text": [
      "VHSRE_qaqc_1s_3Drot_frc_DOY247.csv\n"
     ]
    },
    {
     "name": "stderr",
     "output_type": "stream",
     "text": [
      "/anaconda/lib/python3.6/site-packages/IPython/core/interactiveshell.py:2717: DtypeWarning: Columns (2,3,4,5,6,7,8,9,10,11,12,13,14,15,16,17,18,19,20,21,22) have mixed types. Specify dtype option on import or set low_memory=False.\n",
      "  interactivity=interactivity, compiler=compiler, result=result)\n"
     ]
    },
    {
     "name": "stdout",
     "output_type": "stream",
     "text": [
      "VHSRE_qaqc_1s_3Drot_frc_DOY247_5.csv\n",
      "VHSRE_qaqc_1s_3Drot_frc_DOY248.csv\n",
      "VHSRE_qaqc_1s_3Drot_frc_DOY248_5.csv\n"
     ]
    }
   ],
   "source": [
    "all_qaqc = ['VHSRE_qaqc_1s_3Drot_frc_DOY' + str(DOY) + '.csv'\n",
    "            for DOY in filenameSuffix]\n",
    "qaqc_df = pd.DataFrame()\n",
    "qaqc_list = []\n",
    "for qFiles in all_qaqc:\n",
    "    print(qFiles)\n",
    "    df = pd.read_csv(qFiles, header=0, delimiter=',', index_col='Datetime_center')\n",
    "    # Drop datetime_end column\n",
    "    df.drop(['Datetime_start', 'Datetime_end', 'DOY'], axis=1, inplace=True)\n",
    "    df = df.loc[:, ~df.columns.str.contains('^Unnamed')]\n",
    "    qaqc_list.append(df)\n",
    "qaqc_df = pd.concat(qaqc_list)\n",
    "\n",
    "# Save units as separate dictionary\n",
    "qaqc_units = qaqc_df.iloc[0]\n",
    "for qu in qaqc_units.keys():\n",
    "    if '[1]' in qaqc_units[qu]:\n",
    "        qaqc_units[qu] = 'unitless'\n",
    "qaqc_df.drop([qaqc_df.index[0]], inplace=True)\n"
   ]
  },
  {
   "cell_type": "code",
   "execution_count": 7,
   "metadata": {},
   "outputs": [],
   "source": [
    "plotFlag = False\n",
    "if plotFlag:\n",
    "    fig, axes = plt.subplots(6, 3, sharex=True, figsize=(15, 15))\n",
    "    axes = axes.flatten()\n",
    "\n",
    "    siteMetaData = ['Latitude', 'Coriolis_param f']\n",
    "    qaqcPlotItems = [col for col in qaqc_df.columns if col not in siteMetaData]\n",
    "\n",
    "    for n, q in enumerate(qaqcPlotItems):\n",
    "        ax = axes[n]\n",
    "        ax.plot(qaqc_df.index, qaqc_df[q])\n",
    "        ax.set_ylabel(q + qaqc_units[q])\n",
    "        ax.set_title(q)\n",
    "    fig.autofmt_xdate()\n",
    "    fig.tight_layout()"
   ]
  },
  {
   "cell_type": "markdown",
   "metadata": {},
   "source": [
    "## Format results"
   ]
  },
  {
   "cell_type": "code",
   "execution_count": 8,
   "metadata": {},
   "outputs": [
    {
     "name": "stdout",
     "output_type": "stream",
     "text": [
      "VHSRE_results_1s_3Drot_frc_DOY247.csv\n",
      "VHSRE_results_1s_3Drot_frc_DOY247_5.csv\n",
      "VHSRE_results_1s_3Drot_frc_DOY248.csv\n",
      "VHSRE_results_1s_3Drot_frc_DOY248_5.csv\n"
     ]
    }
   ],
   "source": [
    "# File names\n",
    "allResults = ['VHSRE_results_1s_3Drot_frc_DOY' + str(DOY) + '.csv'\n",
    "              for DOY in filenameSuffix]\n",
    "\n",
    "# Units (names + units = first two rows)\n",
    "results_cols = pd.read_csv(allResults[0], header=0, delimiter=',',\n",
    "                           error_bad_lines=False, warn_bad_lines=False, nrows=2)\n",
    "results_units = results_cols.iloc[0]\n",
    "\n",
    "# Read all data\n",
    "resultsList = []\n",
    "\n",
    "# Loop through files\n",
    "for rFiles in allResults:\n",
    "    print(rFiles)\n",
    "    df = pd.read_csv(rFiles, header=None, delimiter=',', skiprows=[0,1],\n",
    "                     names=results_cols.columns.values, index_col=False)\n",
    "    # Drop datetime_end column\n",
    "    df.drop(['Datetime_start', 'Datetime_end', 'DOY'],\n",
    "            axis=1, inplace=True)\n",
    "    resultsList.append(df)\n",
    "results_df = pd.concat(resultsList)\n",
    "results_df = results_df.reset_index(drop=True).\\\n",
    "                set_index([matlabdn2datetime(results_df['Datetime_center'].values)])\n",
    "results_df.drop(['Datetime_center'], axis=1, inplace=True)\n",
    "results_df.sort_index(inplace=True)\n",
    "\n",
    " # Save units as separate dictionary\n",
    "for ru in results_units.keys():\n",
    "    if '[1]' in results_units[ru]:\n",
    "        results_units[ru] = 'unitless'"
   ]
  },
  {
   "cell_type": "code",
   "execution_count": 9,
   "metadata": {},
   "outputs": [],
   "source": [
    "siteMetaData = ['z_asl', 'lat', 'lon', 'utc_offset', 'zenith', 'azimuth', 'z_aero',\n",
    "                'DayNightIndicator', '#_data', '#_NaN_uvwTs', 'frc_#iterations', '#_lag_wTs']\n",
    "resultsPlotItems = [col for col in results_df.columns if col not in siteMetaData]\n",
    "\n",
    "if plotFlag:\n",
    "    for n, r in enumerate(resultsPlotItems):\n",
    "        fig, ax = plt.subplots(1, 1, sharex=True, figsize=(5, 5))\n",
    "        ax.plot(results_df.index, results_df[r])\n",
    "        ax.set_ylabel(r + ' (' + results_units[r]  + ')')\n",
    "        ax.set_title(r)\n",
    "        fig.autofmt_xdate()\n",
    "        fig.tight_layout()"
   ]
  },
  {
   "cell_type": "code",
   "execution_count": 10,
   "metadata": {},
   "outputs": [
    {
     "name": "stdout",
     "output_type": "stream",
     "text": [
      "<xarray.Dataset>\n",
      "Dimensions:     (time: 140400)\n",
      "Coordinates:\n",
      "  * time        (time) datetime64[ns] 2017-09-04T00:00:00.518404 ...\n",
      "Data variables:\n",
      "    w_mean_rot  (time) float64 2.6e-05 -1.1e-05 -8e-06 1.2e-05 0.000245 0.0 ...\n",
      "    Ts_mean     (time) float64 12.67 12.64 12.18 12.35 12.53 12.29 12.16 ...\n"
     ]
    }
   ],
   "source": [
    "# Remove duplicate time steps\n",
    "results_df = results_df[~results_df.index.duplicated(keep='first')]\n",
    "\n",
    "# For easier handling, just keep a couple fields for the time being\n",
    "fieldsKeep = ['w_mean_rot', 'Ts_mean']\n",
    "\n",
    "# Convert to xarray Dataset\n",
    "results = xr.Dataset.from_dataframe(results_df[fieldsKeep])\n",
    "results.rename({'index': 'time'}, inplace=True)\n",
    "# results.time.attrs['units'] = 'hours since 2000-01-01'\n",
    "# Still to do\n",
    "# - add units as an attribute\n",
    "# - add metadata as an attribute \n",
    "print(results)\n",
    "\n",
    "# save to a netcdf file\n",
    "os.chdir(dirProcessed)\n",
    "results.to_netcdf('VHRSE.eddyCovarObs_2m_land.nc')\n"
   ]
  },
  {
   "cell_type": "code",
   "execution_count": 11,
   "metadata": {},
   "outputs": [
    {
     "name": "stderr",
     "output_type": "stream",
     "text": [
      "/anaconda/lib/python3.6/site-packages/xarray/core/common.py:547: FutureWarning: pd.TimeGrouper is deprecated and will be removed; Please use pd.Grouper(freq=...)\n",
      "  label=label, base=base)\n"
     ]
    },
    {
     "data": {
      "text/plain": [
       "[<matplotlib.lines.Line2D at 0x1c1a15fba8>]"
      ]
     },
     "execution_count": 11,
     "metadata": {},
     "output_type": "execute_result"
    },
    {
     "data": {
      "image/png": "[encoded data removed]",
      "text/plain": [
       "<matplotlib.figure.Figure at 0x1c120c5e48>"
      ]
     },
     "metadata": {},
     "output_type": "display_data"
    }
   ],
   "source": [
    "ecTemp = results.Ts_mean.resample(freq='s', how='mean', dim='time')\n",
    "plt.plot(ecTemp.time, ecTemp.values)"
   ]
  },
  {
   "cell_type": "code",
   "execution_count": 12,
   "metadata": {},
   "outputs": [
    {
     "data": {
      "text/plain": [
       "[<matplotlib.lines.Line2D at 0x1c1a1794e0>]"
      ]
     },
     "execution_count": 12,
     "metadata": {},
     "output_type": "execute_result"
    },
    {
     "data": {
      "image/png": "[encoded data removed]",
      "text/plain": [
       "<matplotlib.figure.Figure at 0x1c1a16f550>"
      ]
     },
     "metadata": {},
     "output_type": "display_data"
    }
   ],
   "source": [
    "os.chdir(dirProcessed)\n",
    "ecObs = xr.open_dataset('VHRSE.eddyCovarObs_2m_land.nc')\n",
    "plt.plot(ecObs.time, ecObs.Ts_mean)"
   ]
  },
  {
   "cell_type": "code",
   "execution_count": null,
   "metadata": {
    "collapsed": true
   },
   "outputs": [],
   "source": []
  }
 ],
 "metadata": {
  "anaconda-cloud": {},
  "kernelspec": {
   "display_name": "Python 3",
   "language": "python",
   "name": "python3"
  },
  "language_info": {
   "codemirror_mode": {
    "name": "ipython",
    "version": 3
   },
   "file_extension": ".py",
   "mimetype": "text/x-python",
   "name": "python",
   "nbconvert_exporter": "python",
   "pygments_lexer": "ipython3",
   "version": "3.6.1"
  }
 },
 "nbformat": 4,
 "nbformat_minor": 1
}
